{
 "cells": [
  {
   "cell_type": "markdown",
   "id": "f85df86f-c517-4fd7-804a-373af4a9677a",
   "metadata": {},
   "source": [
    "# Data Science Tools and Ecosystem"
   ]
  },
  {
   "cell_type": "markdown",
   "id": "555009d7-75df-4db9-9c8d-849180bd8ec8",
   "metadata": {},
   "source": [
    "In this notebook, Data Science Tools and Ecosystem are summarized."
   ]
  },
  {
   "cell_type": "markdown",
   "id": "4198ffd1-5e17-4e0f-8369-31af9c1b2990",
   "metadata": {},
   "source": [
    "Some of the popular languages that Data Scientists use are:\n",
    "1. Python\n",
    "2. R\n",
    "3. SQL"
   ]
  },
  {
   "cell_type": "markdown",
   "id": "775dcf21-c02f-4a01-b8d4-363c3606fd2b",
   "metadata": {},
   "source": [
    "Some of the commonly used libraries used by Data Scientists include:\n",
    "1. Pandas\n",
    "2. NumPy\n",
    "3. Scikit-learn\n",
    "4. Pytorch"
   ]
  },
  {
   "cell_type": "markdown",
   "id": "79d705c3-607b-47f9-a8aa-4073a8eb6f7a",
   "metadata": {},
   "source": [
    "table:\n",
    "\n",
    "\n",
    "| Data Science Tools |\n",
    "|--------------------|\n",
    "| Jupyter Notebook   |\n",
    "| RStudio            |\n",
    "| Apache Zeppelin    |"
   ]
  },
  {
   "cell_type": "markdown",
   "id": "e78f0077-be10-46ab-a44d-05c9da6aa3f1",
   "metadata": {},
   "source": [
    "### Below are a few examples of evaluating arithmetic expressions in Python."
   ]
  },
  {
   "cell_type": "code",
   "execution_count": 9,
   "id": "2daca096-ffca-4c73-bb4e-a0c32c647439",
   "metadata": {
    "tags": []
   },
   "outputs": [
    {
     "data": {
      "text/plain": [
       "17"
      ]
     },
     "execution_count": 9,
     "metadata": {},
     "output_type": "execute_result"
    }
   ],
   "source": [
    "# This a simple arithmetic expression to multiply then add integers\n",
    "(3*4)+5"
   ]
  },
  {
   "cell_type": "code",
   "execution_count": 12,
   "id": "afea9853-9249-4e3c-a8aa-cb4978dca74c",
   "metadata": {
    "tags": []
   },
   "outputs": [
    {
     "data": {
      "text/plain": [
       "3.3333333333333335"
      ]
     },
     "execution_count": 12,
     "metadata": {},
     "output_type": "execute_result"
    }
   ],
   "source": [
    "# This will convert 200 minutes to hours by diving by 60\n",
    "200/60"
   ]
  },
  {
   "cell_type": "markdown",
   "id": "72051c14-a567-4c60-9fe0-2d2a0d44cc4c",
   "metadata": {},
   "source": [
    "**Objectives:** \n",
    "- List popular languages for Data Science\n",
    "- Demonstrate proficiency in Data Science toolkit knowledge\n",
    "- Evaluate notebooks submitted by your peers using the provided rubric"
   ]
  },
  {
   "cell_type": "markdown",
   "id": "971ea636-0a08-486b-b83f-0e2f46180cdd",
   "metadata": {
    "tags": []
   },
   "source": [
    "## Author\n",
    "Aldo Flores De Santiago"
   ]
  },
  {
   "cell_type": "code",
   "execution_count": null,
   "id": "bf8ea978-e78d-4e93-85af-3076f41bd557",
   "metadata": {},
   "outputs": [],
   "source": []
  }
 ],
 "metadata": {
  "kernelspec": {
   "display_name": "Python",
   "language": "python",
   "name": "conda-env-python-py"
  },
  "language_info": {
   "codemirror_mode": {
    "name": "ipython",
    "version": 3
   },
   "file_extension": ".py",
   "mimetype": "text/x-python",
   "name": "python",
   "nbconvert_exporter": "python",
   "pygments_lexer": "ipython3",
   "version": "3.7.12"
  }
 },
 "nbformat": 4,
 "nbformat_minor": 5
}
